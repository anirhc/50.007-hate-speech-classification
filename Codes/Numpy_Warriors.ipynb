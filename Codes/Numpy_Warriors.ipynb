{
 "cells": [
  {
   "cell_type": "markdown",
   "metadata": {},
   "source": [
    "# Numpy Warriors\n",
    "**Group Members:**  \n",
    "- 1005501 Harikrishnan Chalapathy Anirudh\n",
    "- 1005802 Swastik Majumdar\n",
    "- 1005374 Nguyen Thai Huy\n",
    "- 1005147 Hayden Ang Wei En \n",
    "- 1005265 Win Tun Kyaw"
   ]
  },
  {
   "cell_type": "markdown",
   "metadata": {},
   "source": [
    "## Task 1: Implement Logistic Regression"
   ]
  },
  {
   "cell_type": "code",
   "execution_count": 1,
   "metadata": {},
   "outputs": [],
   "source": [
    "import numpy as np\n",
    "import pandas as pd"
   ]
  },
  {
   "cell_type": "code",
   "execution_count": 2,
   "metadata": {},
   "outputs": [
    {
     "data": {
      "text/html": [
       "<div>\n",
       "<style scoped>\n",
       "    .dataframe tbody tr th:only-of-type {\n",
       "        vertical-align: middle;\n",
       "    }\n",
       "\n",
       "    .dataframe tbody tr th {\n",
       "        vertical-align: top;\n",
       "    }\n",
       "\n",
       "    .dataframe thead th {\n",
       "        text-align: right;\n",
       "    }\n",
       "</style>\n",
       "<table border=\"1\" class=\"dataframe\">\n",
       "  <thead>\n",
       "    <tr style=\"text-align: right;\">\n",
       "      <th></th>\n",
       "      <th>id</th>\n",
       "      <th>label</th>\n",
       "      <th>0</th>\n",
       "      <th>1</th>\n",
       "      <th>2</th>\n",
       "      <th>3</th>\n",
       "      <th>4</th>\n",
       "      <th>5</th>\n",
       "      <th>6</th>\n",
       "      <th>7</th>\n",
       "      <th>...</th>\n",
       "      <th>4990</th>\n",
       "      <th>4991</th>\n",
       "      <th>4992</th>\n",
       "      <th>4993</th>\n",
       "      <th>4994</th>\n",
       "      <th>4995</th>\n",
       "      <th>4996</th>\n",
       "      <th>4997</th>\n",
       "      <th>4998</th>\n",
       "      <th>4999</th>\n",
       "    </tr>\n",
       "  </thead>\n",
       "  <tbody>\n",
       "    <tr>\n",
       "      <th>0</th>\n",
       "      <td>1</td>\n",
       "      <td>1</td>\n",
       "      <td>0.0</td>\n",
       "      <td>0.0</td>\n",
       "      <td>0.0</td>\n",
       "      <td>0.0</td>\n",
       "      <td>0.0</td>\n",
       "      <td>0.0</td>\n",
       "      <td>0.0</td>\n",
       "      <td>0.0</td>\n",
       "      <td>...</td>\n",
       "      <td>0.0</td>\n",
       "      <td>0.0</td>\n",
       "      <td>0.0</td>\n",
       "      <td>0.0</td>\n",
       "      <td>0.0</td>\n",
       "      <td>0.0</td>\n",
       "      <td>0.0</td>\n",
       "      <td>0.0</td>\n",
       "      <td>0.0</td>\n",
       "      <td>0.0</td>\n",
       "    </tr>\n",
       "    <tr>\n",
       "      <th>1</th>\n",
       "      <td>2</td>\n",
       "      <td>0</td>\n",
       "      <td>0.0</td>\n",
       "      <td>0.0</td>\n",
       "      <td>0.0</td>\n",
       "      <td>0.0</td>\n",
       "      <td>0.0</td>\n",
       "      <td>0.0</td>\n",
       "      <td>0.0</td>\n",
       "      <td>0.0</td>\n",
       "      <td>...</td>\n",
       "      <td>0.0</td>\n",
       "      <td>0.0</td>\n",
       "      <td>0.0</td>\n",
       "      <td>0.0</td>\n",
       "      <td>0.0</td>\n",
       "      <td>0.0</td>\n",
       "      <td>0.0</td>\n",
       "      <td>0.0</td>\n",
       "      <td>0.0</td>\n",
       "      <td>0.0</td>\n",
       "    </tr>\n",
       "    <tr>\n",
       "      <th>2</th>\n",
       "      <td>3</td>\n",
       "      <td>1</td>\n",
       "      <td>0.0</td>\n",
       "      <td>0.0</td>\n",
       "      <td>0.0</td>\n",
       "      <td>0.0</td>\n",
       "      <td>0.0</td>\n",
       "      <td>0.0</td>\n",
       "      <td>0.0</td>\n",
       "      <td>0.0</td>\n",
       "      <td>...</td>\n",
       "      <td>0.0</td>\n",
       "      <td>0.0</td>\n",
       "      <td>0.0</td>\n",
       "      <td>0.0</td>\n",
       "      <td>0.0</td>\n",
       "      <td>0.0</td>\n",
       "      <td>0.0</td>\n",
       "      <td>0.0</td>\n",
       "      <td>0.0</td>\n",
       "      <td>0.0</td>\n",
       "    </tr>\n",
       "    <tr>\n",
       "      <th>3</th>\n",
       "      <td>4</td>\n",
       "      <td>0</td>\n",
       "      <td>0.0</td>\n",
       "      <td>0.0</td>\n",
       "      <td>0.0</td>\n",
       "      <td>0.0</td>\n",
       "      <td>0.0</td>\n",
       "      <td>0.0</td>\n",
       "      <td>0.0</td>\n",
       "      <td>0.0</td>\n",
       "      <td>...</td>\n",
       "      <td>0.0</td>\n",
       "      <td>0.0</td>\n",
       "      <td>0.0</td>\n",
       "      <td>0.0</td>\n",
       "      <td>0.0</td>\n",
       "      <td>0.0</td>\n",
       "      <td>0.0</td>\n",
       "      <td>0.0</td>\n",
       "      <td>0.0</td>\n",
       "      <td>0.0</td>\n",
       "    </tr>\n",
       "    <tr>\n",
       "      <th>4</th>\n",
       "      <td>5</td>\n",
       "      <td>1</td>\n",
       "      <td>0.0</td>\n",
       "      <td>0.0</td>\n",
       "      <td>0.0</td>\n",
       "      <td>0.0</td>\n",
       "      <td>0.0</td>\n",
       "      <td>0.0</td>\n",
       "      <td>0.0</td>\n",
       "      <td>0.0</td>\n",
       "      <td>...</td>\n",
       "      <td>0.0</td>\n",
       "      <td>0.0</td>\n",
       "      <td>0.0</td>\n",
       "      <td>0.0</td>\n",
       "      <td>0.0</td>\n",
       "      <td>0.0</td>\n",
       "      <td>0.0</td>\n",
       "      <td>0.0</td>\n",
       "      <td>0.0</td>\n",
       "      <td>0.0</td>\n",
       "    </tr>\n",
       "    <tr>\n",
       "      <th>...</th>\n",
       "      <td>...</td>\n",
       "      <td>...</td>\n",
       "      <td>...</td>\n",
       "      <td>...</td>\n",
       "      <td>...</td>\n",
       "      <td>...</td>\n",
       "      <td>...</td>\n",
       "      <td>...</td>\n",
       "      <td>...</td>\n",
       "      <td>...</td>\n",
       "      <td>...</td>\n",
       "      <td>...</td>\n",
       "      <td>...</td>\n",
       "      <td>...</td>\n",
       "      <td>...</td>\n",
       "      <td>...</td>\n",
       "      <td>...</td>\n",
       "      <td>...</td>\n",
       "      <td>...</td>\n",
       "      <td>...</td>\n",
       "      <td>...</td>\n",
       "    </tr>\n",
       "    <tr>\n",
       "      <th>17179</th>\n",
       "      <td>17180</td>\n",
       "      <td>0</td>\n",
       "      <td>0.0</td>\n",
       "      <td>0.0</td>\n",
       "      <td>0.0</td>\n",
       "      <td>0.0</td>\n",
       "      <td>0.0</td>\n",
       "      <td>0.0</td>\n",
       "      <td>0.0</td>\n",
       "      <td>0.0</td>\n",
       "      <td>...</td>\n",
       "      <td>0.0</td>\n",
       "      <td>0.0</td>\n",
       "      <td>0.0</td>\n",
       "      <td>0.0</td>\n",
       "      <td>0.0</td>\n",
       "      <td>0.0</td>\n",
       "      <td>0.0</td>\n",
       "      <td>0.0</td>\n",
       "      <td>0.0</td>\n",
       "      <td>0.0</td>\n",
       "    </tr>\n",
       "    <tr>\n",
       "      <th>17180</th>\n",
       "      <td>17181</td>\n",
       "      <td>0</td>\n",
       "      <td>0.0</td>\n",
       "      <td>0.0</td>\n",
       "      <td>0.0</td>\n",
       "      <td>0.0</td>\n",
       "      <td>0.0</td>\n",
       "      <td>0.0</td>\n",
       "      <td>0.0</td>\n",
       "      <td>0.0</td>\n",
       "      <td>...</td>\n",
       "      <td>0.0</td>\n",
       "      <td>0.0</td>\n",
       "      <td>0.0</td>\n",
       "      <td>0.0</td>\n",
       "      <td>0.0</td>\n",
       "      <td>0.0</td>\n",
       "      <td>0.0</td>\n",
       "      <td>0.0</td>\n",
       "      <td>0.0</td>\n",
       "      <td>0.0</td>\n",
       "    </tr>\n",
       "    <tr>\n",
       "      <th>17181</th>\n",
       "      <td>17182</td>\n",
       "      <td>1</td>\n",
       "      <td>0.0</td>\n",
       "      <td>0.0</td>\n",
       "      <td>0.0</td>\n",
       "      <td>0.0</td>\n",
       "      <td>0.0</td>\n",
       "      <td>0.0</td>\n",
       "      <td>0.0</td>\n",
       "      <td>0.0</td>\n",
       "      <td>...</td>\n",
       "      <td>0.0</td>\n",
       "      <td>0.0</td>\n",
       "      <td>0.0</td>\n",
       "      <td>0.0</td>\n",
       "      <td>0.0</td>\n",
       "      <td>0.0</td>\n",
       "      <td>0.0</td>\n",
       "      <td>0.0</td>\n",
       "      <td>0.0</td>\n",
       "      <td>0.0</td>\n",
       "    </tr>\n",
       "    <tr>\n",
       "      <th>17182</th>\n",
       "      <td>17183</td>\n",
       "      <td>1</td>\n",
       "      <td>0.0</td>\n",
       "      <td>0.0</td>\n",
       "      <td>0.0</td>\n",
       "      <td>0.0</td>\n",
       "      <td>0.0</td>\n",
       "      <td>0.0</td>\n",
       "      <td>0.0</td>\n",
       "      <td>0.0</td>\n",
       "      <td>...</td>\n",
       "      <td>0.0</td>\n",
       "      <td>0.0</td>\n",
       "      <td>0.0</td>\n",
       "      <td>0.0</td>\n",
       "      <td>0.0</td>\n",
       "      <td>0.0</td>\n",
       "      <td>0.0</td>\n",
       "      <td>0.0</td>\n",
       "      <td>0.0</td>\n",
       "      <td>0.0</td>\n",
       "    </tr>\n",
       "    <tr>\n",
       "      <th>17183</th>\n",
       "      <td>17184</td>\n",
       "      <td>0</td>\n",
       "      <td>0.0</td>\n",
       "      <td>0.0</td>\n",
       "      <td>0.0</td>\n",
       "      <td>0.0</td>\n",
       "      <td>0.0</td>\n",
       "      <td>0.0</td>\n",
       "      <td>0.0</td>\n",
       "      <td>0.0</td>\n",
       "      <td>...</td>\n",
       "      <td>0.0</td>\n",
       "      <td>0.0</td>\n",
       "      <td>0.0</td>\n",
       "      <td>0.0</td>\n",
       "      <td>0.0</td>\n",
       "      <td>0.0</td>\n",
       "      <td>0.0</td>\n",
       "      <td>0.0</td>\n",
       "      <td>0.0</td>\n",
       "      <td>0.0</td>\n",
       "    </tr>\n",
       "  </tbody>\n",
       "</table>\n",
       "<p>17184 rows × 5002 columns</p>\n",
       "</div>"
      ],
      "text/plain": [
       "          id  label    0    1    2    3    4    5    6    7  ...  4990  4991  \\\n",
       "0          1      1  0.0  0.0  0.0  0.0  0.0  0.0  0.0  0.0  ...   0.0   0.0   \n",
       "1          2      0  0.0  0.0  0.0  0.0  0.0  0.0  0.0  0.0  ...   0.0   0.0   \n",
       "2          3      1  0.0  0.0  0.0  0.0  0.0  0.0  0.0  0.0  ...   0.0   0.0   \n",
       "3          4      0  0.0  0.0  0.0  0.0  0.0  0.0  0.0  0.0  ...   0.0   0.0   \n",
       "4          5      1  0.0  0.0  0.0  0.0  0.0  0.0  0.0  0.0  ...   0.0   0.0   \n",
       "...      ...    ...  ...  ...  ...  ...  ...  ...  ...  ...  ...   ...   ...   \n",
       "17179  17180      0  0.0  0.0  0.0  0.0  0.0  0.0  0.0  0.0  ...   0.0   0.0   \n",
       "17180  17181      0  0.0  0.0  0.0  0.0  0.0  0.0  0.0  0.0  ...   0.0   0.0   \n",
       "17181  17182      1  0.0  0.0  0.0  0.0  0.0  0.0  0.0  0.0  ...   0.0   0.0   \n",
       "17182  17183      1  0.0  0.0  0.0  0.0  0.0  0.0  0.0  0.0  ...   0.0   0.0   \n",
       "17183  17184      0  0.0  0.0  0.0  0.0  0.0  0.0  0.0  0.0  ...   0.0   0.0   \n",
       "\n",
       "       4992  4993  4994  4995  4996  4997  4998  4999  \n",
       "0       0.0   0.0   0.0   0.0   0.0   0.0   0.0   0.0  \n",
       "1       0.0   0.0   0.0   0.0   0.0   0.0   0.0   0.0  \n",
       "2       0.0   0.0   0.0   0.0   0.0   0.0   0.0   0.0  \n",
       "3       0.0   0.0   0.0   0.0   0.0   0.0   0.0   0.0  \n",
       "4       0.0   0.0   0.0   0.0   0.0   0.0   0.0   0.0  \n",
       "...     ...   ...   ...   ...   ...   ...   ...   ...  \n",
       "17179   0.0   0.0   0.0   0.0   0.0   0.0   0.0   0.0  \n",
       "17180   0.0   0.0   0.0   0.0   0.0   0.0   0.0   0.0  \n",
       "17181   0.0   0.0   0.0   0.0   0.0   0.0   0.0   0.0  \n",
       "17182   0.0   0.0   0.0   0.0   0.0   0.0   0.0   0.0  \n",
       "17183   0.0   0.0   0.0   0.0   0.0   0.0   0.0   0.0  \n",
       "\n",
       "[17184 rows x 5002 columns]"
      ]
     },
     "execution_count": 2,
     "metadata": {},
     "output_type": "execute_result"
    }
   ],
   "source": [
    "df = pd.read_csv(\"train_tfidf_features.csv\")\n",
    "df1 = pd.read_csv(\"test_tfidf_features.csv\")\n",
    "df"
   ]
  },
  {
   "cell_type": "code",
   "execution_count": 3,
   "metadata": {},
   "outputs": [
    {
     "data": {
      "text/html": [
       "<div>\n",
       "<style scoped>\n",
       "    .dataframe tbody tr th:only-of-type {\n",
       "        vertical-align: middle;\n",
       "    }\n",
       "\n",
       "    .dataframe tbody tr th {\n",
       "        vertical-align: top;\n",
       "    }\n",
       "\n",
       "    .dataframe thead th {\n",
       "        text-align: right;\n",
       "    }\n",
       "</style>\n",
       "<table border=\"1\" class=\"dataframe\">\n",
       "  <thead>\n",
       "    <tr style=\"text-align: right;\">\n",
       "      <th></th>\n",
       "      <th>id</th>\n",
       "      <th>label</th>\n",
       "      <th>0</th>\n",
       "      <th>1</th>\n",
       "      <th>2</th>\n",
       "      <th>3</th>\n",
       "      <th>4</th>\n",
       "      <th>5</th>\n",
       "      <th>6</th>\n",
       "      <th>7</th>\n",
       "      <th>...</th>\n",
       "      <th>4990</th>\n",
       "      <th>4991</th>\n",
       "      <th>4992</th>\n",
       "      <th>4993</th>\n",
       "      <th>4994</th>\n",
       "      <th>4995</th>\n",
       "      <th>4996</th>\n",
       "      <th>4997</th>\n",
       "      <th>4998</th>\n",
       "      <th>4999</th>\n",
       "    </tr>\n",
       "  </thead>\n",
       "  <tbody>\n",
       "    <tr>\n",
       "      <th>count</th>\n",
       "      <td>17184.000000</td>\n",
       "      <td>17184.000000</td>\n",
       "      <td>17184.000000</td>\n",
       "      <td>17184.000000</td>\n",
       "      <td>17184.000000</td>\n",
       "      <td>17184.000000</td>\n",
       "      <td>17184.000000</td>\n",
       "      <td>17184.000000</td>\n",
       "      <td>17184.000000</td>\n",
       "      <td>17184.000000</td>\n",
       "      <td>...</td>\n",
       "      <td>17184.000000</td>\n",
       "      <td>17184.000000</td>\n",
       "      <td>17184.000000</td>\n",
       "      <td>17184.000000</td>\n",
       "      <td>17184.000000</td>\n",
       "      <td>17184.000000</td>\n",
       "      <td>17184.000000</td>\n",
       "      <td>17184.000000</td>\n",
       "      <td>17184.000000</td>\n",
       "      <td>17184.000000</td>\n",
       "    </tr>\n",
       "    <tr>\n",
       "      <th>mean</th>\n",
       "      <td>8592.500000</td>\n",
       "      <td>0.381227</td>\n",
       "      <td>0.000150</td>\n",
       "      <td>0.001066</td>\n",
       "      <td>0.001532</td>\n",
       "      <td>0.000369</td>\n",
       "      <td>0.000140</td>\n",
       "      <td>0.000066</td>\n",
       "      <td>0.000270</td>\n",
       "      <td>0.000483</td>\n",
       "      <td>...</td>\n",
       "      <td>0.000202</td>\n",
       "      <td>0.000429</td>\n",
       "      <td>0.000286</td>\n",
       "      <td>0.000075</td>\n",
       "      <td>0.000260</td>\n",
       "      <td>0.000709</td>\n",
       "      <td>0.000257</td>\n",
       "      <td>0.000121</td>\n",
       "      <td>0.000308</td>\n",
       "      <td>0.000159</td>\n",
       "    </tr>\n",
       "    <tr>\n",
       "      <th>std</th>\n",
       "      <td>4960.737848</td>\n",
       "      <td>0.485702</td>\n",
       "      <td>0.008297</td>\n",
       "      <td>0.019532</td>\n",
       "      <td>0.024741</td>\n",
       "      <td>0.012334</td>\n",
       "      <td>0.008276</td>\n",
       "      <td>0.005065</td>\n",
       "      <td>0.009907</td>\n",
       "      <td>0.013106</td>\n",
       "      <td>...</td>\n",
       "      <td>0.010215</td>\n",
       "      <td>0.013178</td>\n",
       "      <td>0.011378</td>\n",
       "      <td>0.005866</td>\n",
       "      <td>0.010864</td>\n",
       "      <td>0.017641</td>\n",
       "      <td>0.010246</td>\n",
       "      <td>0.006529</td>\n",
       "      <td>0.010526</td>\n",
       "      <td>0.008536</td>\n",
       "    </tr>\n",
       "    <tr>\n",
       "      <th>min</th>\n",
       "      <td>1.000000</td>\n",
       "      <td>0.000000</td>\n",
       "      <td>0.000000</td>\n",
       "      <td>0.000000</td>\n",
       "      <td>0.000000</td>\n",
       "      <td>0.000000</td>\n",
       "      <td>0.000000</td>\n",
       "      <td>0.000000</td>\n",
       "      <td>0.000000</td>\n",
       "      <td>0.000000</td>\n",
       "      <td>...</td>\n",
       "      <td>0.000000</td>\n",
       "      <td>0.000000</td>\n",
       "      <td>0.000000</td>\n",
       "      <td>0.000000</td>\n",
       "      <td>0.000000</td>\n",
       "      <td>0.000000</td>\n",
       "      <td>0.000000</td>\n",
       "      <td>0.000000</td>\n",
       "      <td>0.000000</td>\n",
       "      <td>0.000000</td>\n",
       "    </tr>\n",
       "    <tr>\n",
       "      <th>25%</th>\n",
       "      <td>4296.750000</td>\n",
       "      <td>0.000000</td>\n",
       "      <td>0.000000</td>\n",
       "      <td>0.000000</td>\n",
       "      <td>0.000000</td>\n",
       "      <td>0.000000</td>\n",
       "      <td>0.000000</td>\n",
       "      <td>0.000000</td>\n",
       "      <td>0.000000</td>\n",
       "      <td>0.000000</td>\n",
       "      <td>...</td>\n",
       "      <td>0.000000</td>\n",
       "      <td>0.000000</td>\n",
       "      <td>0.000000</td>\n",
       "      <td>0.000000</td>\n",
       "      <td>0.000000</td>\n",
       "      <td>0.000000</td>\n",
       "      <td>0.000000</td>\n",
       "      <td>0.000000</td>\n",
       "      <td>0.000000</td>\n",
       "      <td>0.000000</td>\n",
       "    </tr>\n",
       "    <tr>\n",
       "      <th>50%</th>\n",
       "      <td>8592.500000</td>\n",
       "      <td>0.000000</td>\n",
       "      <td>0.000000</td>\n",
       "      <td>0.000000</td>\n",
       "      <td>0.000000</td>\n",
       "      <td>0.000000</td>\n",
       "      <td>0.000000</td>\n",
       "      <td>0.000000</td>\n",
       "      <td>0.000000</td>\n",
       "      <td>0.000000</td>\n",
       "      <td>...</td>\n",
       "      <td>0.000000</td>\n",
       "      <td>0.000000</td>\n",
       "      <td>0.000000</td>\n",
       "      <td>0.000000</td>\n",
       "      <td>0.000000</td>\n",
       "      <td>0.000000</td>\n",
       "      <td>0.000000</td>\n",
       "      <td>0.000000</td>\n",
       "      <td>0.000000</td>\n",
       "      <td>0.000000</td>\n",
       "    </tr>\n",
       "    <tr>\n",
       "      <th>75%</th>\n",
       "      <td>12888.250000</td>\n",
       "      <td>1.000000</td>\n",
       "      <td>0.000000</td>\n",
       "      <td>0.000000</td>\n",
       "      <td>0.000000</td>\n",
       "      <td>0.000000</td>\n",
       "      <td>0.000000</td>\n",
       "      <td>0.000000</td>\n",
       "      <td>0.000000</td>\n",
       "      <td>0.000000</td>\n",
       "      <td>...</td>\n",
       "      <td>0.000000</td>\n",
       "      <td>0.000000</td>\n",
       "      <td>0.000000</td>\n",
       "      <td>0.000000</td>\n",
       "      <td>0.000000</td>\n",
       "      <td>0.000000</td>\n",
       "      <td>0.000000</td>\n",
       "      <td>0.000000</td>\n",
       "      <td>0.000000</td>\n",
       "      <td>0.000000</td>\n",
       "    </tr>\n",
       "    <tr>\n",
       "      <th>max</th>\n",
       "      <td>17184.000000</td>\n",
       "      <td>1.000000</td>\n",
       "      <td>0.676327</td>\n",
       "      <td>0.560830</td>\n",
       "      <td>0.958430</td>\n",
       "      <td>0.646740</td>\n",
       "      <td>0.532789</td>\n",
       "      <td>0.437760</td>\n",
       "      <td>0.435835</td>\n",
       "      <td>0.536746</td>\n",
       "      <td>...</td>\n",
       "      <td>0.611122</td>\n",
       "      <td>0.540809</td>\n",
       "      <td>0.566613</td>\n",
       "      <td>0.592170</td>\n",
       "      <td>0.617341</td>\n",
       "      <td>0.850605</td>\n",
       "      <td>0.484908</td>\n",
       "      <td>0.398105</td>\n",
       "      <td>0.430031</td>\n",
       "      <td>0.528556</td>\n",
       "    </tr>\n",
       "  </tbody>\n",
       "</table>\n",
       "<p>8 rows × 5002 columns</p>\n",
       "</div>"
      ],
      "text/plain": [
       "                 id         label             0             1             2  \\\n",
       "count  17184.000000  17184.000000  17184.000000  17184.000000  17184.000000   \n",
       "mean    8592.500000      0.381227      0.000150      0.001066      0.001532   \n",
       "std     4960.737848      0.485702      0.008297      0.019532      0.024741   \n",
       "min        1.000000      0.000000      0.000000      0.000000      0.000000   \n",
       "25%     4296.750000      0.000000      0.000000      0.000000      0.000000   \n",
       "50%     8592.500000      0.000000      0.000000      0.000000      0.000000   \n",
       "75%    12888.250000      1.000000      0.000000      0.000000      0.000000   \n",
       "max    17184.000000      1.000000      0.676327      0.560830      0.958430   \n",
       "\n",
       "                  3             4             5             6             7  \\\n",
       "count  17184.000000  17184.000000  17184.000000  17184.000000  17184.000000   \n",
       "mean       0.000369      0.000140      0.000066      0.000270      0.000483   \n",
       "std        0.012334      0.008276      0.005065      0.009907      0.013106   \n",
       "min        0.000000      0.000000      0.000000      0.000000      0.000000   \n",
       "25%        0.000000      0.000000      0.000000      0.000000      0.000000   \n",
       "50%        0.000000      0.000000      0.000000      0.000000      0.000000   \n",
       "75%        0.000000      0.000000      0.000000      0.000000      0.000000   \n",
       "max        0.646740      0.532789      0.437760      0.435835      0.536746   \n",
       "\n",
       "       ...          4990          4991          4992          4993  \\\n",
       "count  ...  17184.000000  17184.000000  17184.000000  17184.000000   \n",
       "mean   ...      0.000202      0.000429      0.000286      0.000075   \n",
       "std    ...      0.010215      0.013178      0.011378      0.005866   \n",
       "min    ...      0.000000      0.000000      0.000000      0.000000   \n",
       "25%    ...      0.000000      0.000000      0.000000      0.000000   \n",
       "50%    ...      0.000000      0.000000      0.000000      0.000000   \n",
       "75%    ...      0.000000      0.000000      0.000000      0.000000   \n",
       "max    ...      0.611122      0.540809      0.566613      0.592170   \n",
       "\n",
       "               4994          4995          4996          4997          4998  \\\n",
       "count  17184.000000  17184.000000  17184.000000  17184.000000  17184.000000   \n",
       "mean       0.000260      0.000709      0.000257      0.000121      0.000308   \n",
       "std        0.010864      0.017641      0.010246      0.006529      0.010526   \n",
       "min        0.000000      0.000000      0.000000      0.000000      0.000000   \n",
       "25%        0.000000      0.000000      0.000000      0.000000      0.000000   \n",
       "50%        0.000000      0.000000      0.000000      0.000000      0.000000   \n",
       "75%        0.000000      0.000000      0.000000      0.000000      0.000000   \n",
       "max        0.617341      0.850605      0.484908      0.398105      0.430031   \n",
       "\n",
       "               4999  \n",
       "count  17184.000000  \n",
       "mean       0.000159  \n",
       "std        0.008536  \n",
       "min        0.000000  \n",
       "25%        0.000000  \n",
       "50%        0.000000  \n",
       "75%        0.000000  \n",
       "max        0.528556  \n",
       "\n",
       "[8 rows x 5002 columns]"
      ]
     },
     "execution_count": 3,
     "metadata": {},
     "output_type": "execute_result"
    }
   ],
   "source": [
    "df.describe()"
   ]
  },
  {
   "cell_type": "code",
   "execution_count": 4,
   "metadata": {},
   "outputs": [
    {
     "name": "stdout",
     "output_type": "stream",
     "text": [
      "Shape of target :  (17184,)\n",
      "Shape of features :  (17184, 5000)\n"
     ]
    },
    {
     "data": {
      "text/plain": [
       "array([[0., 0., 0., ..., 0., 0., 0.],\n",
       "       [0., 0., 0., ..., 0., 0., 0.],\n",
       "       [0., 0., 0., ..., 0., 0., 0.],\n",
       "       ...,\n",
       "       [0., 0., 0., ..., 0., 0., 0.],\n",
       "       [0., 0., 0., ..., 0., 0., 0.],\n",
       "       [0., 0., 0., ..., 0., 0., 0.]])"
      ]
     },
     "execution_count": 4,
     "metadata": {},
     "output_type": "execute_result"
    }
   ],
   "source": [
    "train_target = df['label'].to_numpy()\n",
    "train_features = df.drop(['id','label'], axis = 1).to_numpy()\n",
    "test_features = df1.drop(['id'], axis = 1).to_numpy()\n",
    "print(\"Shape of target : \", train_target.shape)\n",
    "print(\"Shape of features : \", train_features.shape)\n",
    "train_features"
   ]
  },
  {
   "cell_type": "code",
   "execution_count": 5,
   "metadata": {},
   "outputs": [],
   "source": [
    "import math\n",
    "def sigmoid(z):\n",
    "    return 1/(1+np.exp(-z))"
   ]
  },
  {
   "cell_type": "code",
   "execution_count": 6,
   "metadata": {},
   "outputs": [],
   "source": [
    "def loss(y, y_pred):\n",
    "    loss = -np.mean(y*(np.log(y_pred)) - (1-y)*np.log(1-y_pred))\n",
    "    return loss"
   ]
  },
  {
   "cell_type": "code",
   "execution_count": 7,
   "metadata": {},
   "outputs": [],
   "source": [
    "def gradients(X, y, y_pred): \n",
    "    # X is the input, y is the target value, y_pred is the prediction.\n",
    "    \n",
    "    m = X.shape[0]\n",
    "    dw = (1/m)*np.dot(X.T, (y_pred - y))\n",
    "    db = (1/m)*np.sum((y_pred - y)) \n",
    "    \n",
    "    return dw, db"
   ]
  },
  {
   "cell_type": "code",
   "execution_count": 8,
   "metadata": {},
   "outputs": [],
   "source": [
    "def train(X, y, bs, epochs, lr):\n",
    "    # X is the input, y is the target value, y_pred is the prediction.\n",
    "    # bs is the batch size, epochs is the number of iterations and lr is the learning rate.\n",
    "\n",
    "    m, n = X.shape\n",
    "    \n",
    "    # Initialize weights and bias to zeros.\n",
    "    w = np.zeros((n,1))\n",
    "    b = 0\n",
    "    \n",
    "    # Reshaping y.\n",
    "    y = y.reshape(m,1)\n",
    "    \n",
    "    # Initialize an empty list to store the losses.\n",
    "    losses = []\n",
    "    \n",
    "    # Training\n",
    "    for epoch in range(epochs):\n",
    "        for i in range((m-1)//bs + 1):\n",
    "            \n",
    "            # Define the batches.\n",
    "            start_i = i*bs\n",
    "            end_i = start_i + bs\n",
    "            xb = X[start_i:end_i]\n",
    "            yb = y[start_i:end_i]\n",
    "            \n",
    "            # Calculate the prediction.\n",
    "            y_pred = sigmoid(np.dot(xb, w) + b)\n",
    "            \n",
    "            # Getting the gradients of loss with respect to the parameters.\n",
    "            dw, db = gradients(xb, yb, y_pred)\n",
    "            \n",
    "            # Update the parameters.\n",
    "            w -= lr*dw\n",
    "            b -= lr*db\n",
    "        \n",
    "        # Calculating loss and appending it in the list.\n",
    "        l = loss(y, sigmoid(np.dot(X, w) + b))\n",
    "        losses.append(l)\n",
    "        \n",
    "    # returning weights, bias and losses.\n",
    "    return w, b, losses"
   ]
  },
  {
   "cell_type": "code",
   "execution_count": 9,
   "metadata": {},
   "outputs": [],
   "source": [
    "def predict(X,w,b):\n",
    "    \n",
    "    # Calculating predictions.\n",
    "    preds = sigmoid(np.dot(X, w) + b)\n",
    "    \n",
    "    # Empty List to store predictions.\n",
    "    pred_class = []\n",
    "    pred_class = [1 if i > 0.5 else 0 for i in preds]\n",
    "    \n",
    "    return np.array(pred_class)"
   ]
  },
  {
   "cell_type": "code",
   "execution_count": 10,
   "metadata": {},
   "outputs": [],
   "source": [
    "w, b, l = train(train_features, train_target, bs = 100, epochs = 1000, lr = 0.01)"
   ]
  },
  {
   "cell_type": "code",
   "execution_count": 11,
   "metadata": {},
   "outputs": [],
   "source": [
    "def accuracy(y, y_pred):\n",
    "    accuracy = np.sum(y == y_pred) / len(y)\n",
    "    return accuracy"
   ]
  },
  {
   "cell_type": "code",
   "execution_count": 12,
   "metadata": {},
   "outputs": [
    {
     "name": "stdout",
     "output_type": "stream",
     "text": [
      "0.706762104283054\n"
     ]
    }
   ],
   "source": [
    "print(accuracy(train_target, predict(train_features, w, b)))"
   ]
  },
  {
   "cell_type": "code",
   "execution_count": 13,
   "metadata": {},
   "outputs": [],
   "source": [
    "#predictions = pd.DataFrame(predict(test_features, w ,b))\n",
    "#pd.concat([predictions,df1['id']],axis = 1).to_csv(\"LogRed_Prediction.csv\")"
   ]
  },
  {
   "cell_type": "markdown",
   "metadata": {},
   "source": [
    "## Task 2: Apply dimension reduction techniques"
   ]
  },
  {
   "cell_type": "code",
   "execution_count": 14,
   "metadata": {},
   "outputs": [],
   "source": [
    "from sklearn.decomposition import PCA\n",
    "from sklearn.model_selection import train_test_split\n",
    "from sklearn.preprocessing import StandardScaler\n",
    "from sklearn.metrics import f1_score\n",
    "from sklearn.neighbors import KNeighborsClassifier"
   ]
  },
  {
   "cell_type": "code",
   "execution_count": 15,
   "metadata": {},
   "outputs": [],
   "source": [
    "dataset= pd.read_csv(\"train_tfidf_features.csv\")\n",
    "test_dataset = pd.read_csv(\"test_tfidf_features.csv\")\n",
    "\n",
    "x = dataset.drop([\"label\",\"id\"],axis = 1).to_numpy()\n",
    "y = dataset[\"label\"].to_numpy()\n",
    "\n",
    "x_test = test_dataset.drop([\"id\"],axis = 1).to_numpy()"
   ]
  },
  {
   "cell_type": "markdown",
   "metadata": {},
   "source": [
    "**Reducing dimension of training set**"
   ]
  },
  {
   "cell_type": "code",
   "execution_count": 16,
   "metadata": {},
   "outputs": [],
   "source": [
    "scaling = StandardScaler()\n",
    "scaling.fit(x)\n",
    "Scaled_data1 = scaling.transform(x)"
   ]
  },
  {
   "cell_type": "code",
   "execution_count": 17,
   "metadata": {},
   "outputs": [
    {
     "name": "stdout",
     "output_type": "stream",
     "text": [
      "(17184, 100)\n"
     ]
    }
   ],
   "source": [
    "pca_100 = PCA(n_components = 100)\n",
    "pca_100.fit(Scaled_data1)\n",
    "x_100 = pca_100.transform(Scaled_data1)\n",
    "print(x_100.shape)"
   ]
  },
  {
   "cell_type": "code",
   "execution_count": 18,
   "metadata": {},
   "outputs": [
    {
     "name": "stdout",
     "output_type": "stream",
     "text": [
      "(17184, 500)\n"
     ]
    }
   ],
   "source": [
    "pca_500 = PCA(n_components = 500)\n",
    "pca_500.fit(Scaled_data1)\n",
    "x_500 = pca_500.transform(Scaled_data1)\n",
    "print(x_500.shape)"
   ]
  },
  {
   "cell_type": "code",
   "execution_count": 19,
   "metadata": {},
   "outputs": [
    {
     "name": "stdout",
     "output_type": "stream",
     "text": [
      "(17184, 1000)\n"
     ]
    }
   ],
   "source": [
    "pca_1000 = PCA(n_components = 1000)\n",
    "pca_1000.fit(Scaled_data1)\n",
    "x_1000 = pca_1000.transform(Scaled_data1)\n",
    "print(x_1000.shape)"
   ]
  },
  {
   "cell_type": "code",
   "execution_count": 20,
   "metadata": {},
   "outputs": [
    {
     "name": "stdout",
     "output_type": "stream",
     "text": [
      "(17184, 2000)\n"
     ]
    }
   ],
   "source": [
    "pca_2000 = PCA(n_components = 2000)\n",
    "pca_2000.fit(Scaled_data1)\n",
    "x_2000 = pca_2000.transform(Scaled_data1)\n",
    "print(x_2000.shape)"
   ]
  },
  {
   "cell_type": "markdown",
   "metadata": {},
   "source": [
    "**Reducing dimension of test set**"
   ]
  },
  {
   "cell_type": "code",
   "execution_count": 21,
   "metadata": {},
   "outputs": [],
   "source": [
    "scaling = StandardScaler()\n",
    "scaling.fit(x_test)\n",
    "Scaled_data = scaling.transform(x_test)"
   ]
  },
  {
   "cell_type": "code",
   "execution_count": 22,
   "metadata": {},
   "outputs": [
    {
     "name": "stdout",
     "output_type": "stream",
     "text": [
      "(4296, 100)\n"
     ]
    }
   ],
   "source": [
    "pca_100 = PCA(n_components = 100)\n",
    "pca_100.fit(Scaled_data)\n",
    "x_test_100 = pca_100.transform(Scaled_data)\n",
    "print(x_test_100.shape)"
   ]
  },
  {
   "cell_type": "code",
   "execution_count": 23,
   "metadata": {},
   "outputs": [
    {
     "name": "stdout",
     "output_type": "stream",
     "text": [
      "(4296, 500)\n"
     ]
    }
   ],
   "source": [
    "pca_500 = PCA(n_components = 500)\n",
    "pca_500.fit(Scaled_data)\n",
    "x_test_500 = pca_500.transform(Scaled_data)\n",
    "print(x_test_500.shape)"
   ]
  },
  {
   "cell_type": "code",
   "execution_count": 24,
   "metadata": {},
   "outputs": [
    {
     "name": "stdout",
     "output_type": "stream",
     "text": [
      "(4296, 1000)\n"
     ]
    }
   ],
   "source": [
    "pca_1000 = PCA(n_components = 1000)\n",
    "pca_1000.fit(Scaled_data)\n",
    "x_test_1000 = pca_1000.transform(Scaled_data)\n",
    "print(x_test_1000.shape)"
   ]
  },
  {
   "cell_type": "code",
   "execution_count": 25,
   "metadata": {},
   "outputs": [
    {
     "name": "stdout",
     "output_type": "stream",
     "text": [
      "(4296, 2000)\n"
     ]
    }
   ],
   "source": [
    "pca_2000 = PCA(n_components = 2000)\n",
    "pca_2000.fit(Scaled_data)\n",
    "x_test_2000 = pca_2000.transform(Scaled_data)\n",
    "print(x_test_2000.shape)"
   ]
  },
  {
   "cell_type": "code",
   "execution_count": 26,
   "metadata": {},
   "outputs": [
    {
     "data": {
      "text/html": [
       "<style>#sk-container-id-1 {color: black;background-color: white;}#sk-container-id-1 pre{padding: 0;}#sk-container-id-1 div.sk-toggleable {background-color: white;}#sk-container-id-1 label.sk-toggleable__label {cursor: pointer;display: block;width: 100%;margin-bottom: 0;padding: 0.3em;box-sizing: border-box;text-align: center;}#sk-container-id-1 label.sk-toggleable__label-arrow:before {content: \"▸\";float: left;margin-right: 0.25em;color: #696969;}#sk-container-id-1 label.sk-toggleable__label-arrow:hover:before {color: black;}#sk-container-id-1 div.sk-estimator:hover label.sk-toggleable__label-arrow:before {color: black;}#sk-container-id-1 div.sk-toggleable__content {max-height: 0;max-width: 0;overflow: hidden;text-align: left;background-color: #f0f8ff;}#sk-container-id-1 div.sk-toggleable__content pre {margin: 0.2em;color: black;border-radius: 0.25em;background-color: #f0f8ff;}#sk-container-id-1 input.sk-toggleable__control:checked~div.sk-toggleable__content {max-height: 200px;max-width: 100%;overflow: auto;}#sk-container-id-1 input.sk-toggleable__control:checked~label.sk-toggleable__label-arrow:before {content: \"▾\";}#sk-container-id-1 div.sk-estimator input.sk-toggleable__control:checked~label.sk-toggleable__label {background-color: #d4ebff;}#sk-container-id-1 div.sk-label input.sk-toggleable__control:checked~label.sk-toggleable__label {background-color: #d4ebff;}#sk-container-id-1 input.sk-hidden--visually {border: 0;clip: rect(1px 1px 1px 1px);clip: rect(1px, 1px, 1px, 1px);height: 1px;margin: -1px;overflow: hidden;padding: 0;position: absolute;width: 1px;}#sk-container-id-1 div.sk-estimator {font-family: monospace;background-color: #f0f8ff;border: 1px dotted black;border-radius: 0.25em;box-sizing: border-box;margin-bottom: 0.5em;}#sk-container-id-1 div.sk-estimator:hover {background-color: #d4ebff;}#sk-container-id-1 div.sk-parallel-item::after {content: \"\";width: 100%;border-bottom: 1px solid gray;flex-grow: 1;}#sk-container-id-1 div.sk-label:hover label.sk-toggleable__label {background-color: #d4ebff;}#sk-container-id-1 div.sk-serial::before {content: \"\";position: absolute;border-left: 1px solid gray;box-sizing: border-box;top: 0;bottom: 0;left: 50%;z-index: 0;}#sk-container-id-1 div.sk-serial {display: flex;flex-direction: column;align-items: center;background-color: white;padding-right: 0.2em;padding-left: 0.2em;position: relative;}#sk-container-id-1 div.sk-item {position: relative;z-index: 1;}#sk-container-id-1 div.sk-parallel {display: flex;align-items: stretch;justify-content: center;background-color: white;position: relative;}#sk-container-id-1 div.sk-item::before, #sk-container-id-1 div.sk-parallel-item::before {content: \"\";position: absolute;border-left: 1px solid gray;box-sizing: border-box;top: 0;bottom: 0;left: 50%;z-index: -1;}#sk-container-id-1 div.sk-parallel-item {display: flex;flex-direction: column;z-index: 1;position: relative;background-color: white;}#sk-container-id-1 div.sk-parallel-item:first-child::after {align-self: flex-end;width: 50%;}#sk-container-id-1 div.sk-parallel-item:last-child::after {align-self: flex-start;width: 50%;}#sk-container-id-1 div.sk-parallel-item:only-child::after {width: 0;}#sk-container-id-1 div.sk-dashed-wrapped {border: 1px dashed gray;margin: 0 0.4em 0.5em 0.4em;box-sizing: border-box;padding-bottom: 0.4em;background-color: white;}#sk-container-id-1 div.sk-label label {font-family: monospace;font-weight: bold;display: inline-block;line-height: 1.2em;}#sk-container-id-1 div.sk-label-container {text-align: center;}#sk-container-id-1 div.sk-container {/* jupyter's `normalize.less` sets `[hidden] { display: none; }` but bootstrap.min.css set `[hidden] { display: none !important; }` so we also need the `!important` here to be able to override the default hidden behavior on the sphinx rendered scikit-learn.org. See: https://github.com/scikit-learn/scikit-learn/issues/21755 */display: inline-block !important;position: relative;}#sk-container-id-1 div.sk-text-repr-fallback {display: none;}</style><div id=\"sk-container-id-1\" class=\"sk-top-container\"><div class=\"sk-text-repr-fallback\"><pre>KNeighborsClassifier(n_neighbors=2)</pre><b>In a Jupyter environment, please rerun this cell to show the HTML representation or trust the notebook. <br />On GitHub, the HTML representation is unable to render, please try loading this page with nbviewer.org.</b></div><div class=\"sk-container\" hidden><div class=\"sk-item\"><div class=\"sk-estimator sk-toggleable\"><input class=\"sk-toggleable__control sk-hidden--visually\" id=\"sk-estimator-id-1\" type=\"checkbox\" checked><label for=\"sk-estimator-id-1\" class=\"sk-toggleable__label sk-toggleable__label-arrow\">KNeighborsClassifier</label><div class=\"sk-toggleable__content\"><pre>KNeighborsClassifier(n_neighbors=2)</pre></div></div></div></div></div>"
      ],
      "text/plain": [
       "KNeighborsClassifier(n_neighbors=2)"
      ]
     },
     "execution_count": 26,
     "metadata": {},
     "output_type": "execute_result"
    }
   ],
   "source": [
    "#2000 components training f1 score\n",
    "neigh_2000 = KNeighborsClassifier(n_neighbors=2)\n",
    "neigh_2000.fit(x_2000, y)\n",
    "\n",
    "#1000 components training f1 score\n",
    "neigh_1000 = KNeighborsClassifier(n_neighbors=2)\n",
    "neigh_1000.fit(x_1000, y)\n",
    "\n",
    "#500 components training f1 score\n",
    "neigh_500 = KNeighborsClassifier(n_neighbors=2)\n",
    "neigh_500.fit(x_500, y)\n",
    "\n",
    "#100 components training f1 score\n",
    "neigh_100 = KNeighborsClassifier(n_neighbors=2)\n",
    "neigh_100.fit(x_100, y)"
   ]
  },
  {
   "cell_type": "code",
   "execution_count": 27,
   "metadata": {},
   "outputs": [
    {
     "name": "stdout",
     "output_type": "stream",
     "text": [
      "--- 50.6638720035553 seconds ---\n",
      "--- 1.2869670391082764 seconds ---\n",
      "--- 0.7224512100219727 seconds ---\n",
      "--- 0.2800109386444092 seconds ---\n"
     ]
    }
   ],
   "source": [
    "import time\n",
    "start_time_2000 = time.time()\n",
    "predictions_2000 = neigh_2000.predict(x_test_2000)\n",
    "print(\"--- %s seconds ---\" % (time.time() - start_time_2000))\n",
    "start_time_1000 = time.time()\n",
    "predictions_1000 = neigh_1000.predict(x_test_1000)\n",
    "print(\"--- %s seconds ---\" % (time.time() - start_time_1000))\n",
    "start_time_500 = time.time()\n",
    "predictions_500 = neigh_500.predict(x_test_500)\n",
    "print(\"--- %s seconds ---\" % (time.time() - start_time_500))\n",
    "start_time_100 = time.time()\n",
    "predictions_100 = neigh_100.predict(x_test_100)\n",
    "print(\"--- %s seconds ---\" % (time.time() - start_time_100))"
   ]
  },
  {
   "cell_type": "code",
   "execution_count": 28,
   "metadata": {},
   "outputs": [],
   "source": [
    "# pd.concat([pd.DataFrame(predictions_2000),test_dataset['id']],axis = 1).to_csv(\"knn_predictions_2000.csv\")\n",
    "# pd.concat([pd.DataFrame(predictions_1000),test_dataset['id']],axis = 1).to_csv(\"knn_predictions_1000.csv\")\n",
    "# pd.concat([pd.DataFrame(predictions_500),test_dataset['id']],axis = 1).to_csv(\"knn_predictions_500.csv\")\n",
    "# pd.concat([pd.DataFrame(predictions_100),test_dataset['id']],axis = 1).to_csv(\"knn_predictions_100.csv\")"
   ]
  },
  {
   "cell_type": "markdown",
   "metadata": {},
   "source": [
    "- **F1 score for 100: 0.52971**\n",
    "- **F1 score for 500: 0.49234**\n",
    "- **F1 score for 1000: 0.43323**\n",
    "- **F1 score for 2000 : 0.33998**"
   ]
  },
  {
   "cell_type": "markdown",
   "metadata": {},
   "source": [
    "## Analysis of the reduced components\n",
    "- **Time** - By using the time module, we were able to record the time taken for each prediction.  We obtained 53.19764566421509 seconds for n_components = 2000, 1.2955138683319092 seconds for n_components = 1000, 0.733565092086792 seconds for n_components = 500 and 0.30568814277648926 seconds for n_components = 100. Thus, we can see that, as we reduce the dimension, we can also reduce the time required to train the machine learning model. This is mainly because the lower the dimension, the less computationally expensive it is. Thus, training takes less time while retaining our accuracies, which increases our efficiency.\n",
    "- **F1 score** - We also noticed that the F1 score reduced as the dimensions increased. We find that for KNN, reduced dimensions work better for model accuracy, and this further supports our motive for using PCA to reduce the dimensions.\n"
   ]
  },
  {
   "cell_type": "markdown",
   "metadata": {},
   "source": [
    "## Task 3: Try other machine learning models"
   ]
  },
  {
   "cell_type": "code",
   "execution_count": 29,
   "metadata": {},
   "outputs": [],
   "source": [
    "import numpy as np\n",
    "import pandas as pd\n",
    "import sklearn\n",
    "import matplotlib.pyplot as plt\n",
    "from sklearn.model_selection import train_test_split\n",
    "from sklearn.preprocessing import StandardScaler\n",
    "from sklearn.preprocessing import MinMaxScaler\n",
    "from imblearn.over_sampling import SMOTE, ADASYN"
   ]
  },
  {
   "cell_type": "markdown",
   "metadata": {},
   "source": [
    "***Data pre-processing***\n",
    "-   **SMOTE (Synthetic Minority Oversampling Technique)**  \n",
    "While performing exploratory data analysis, we found that our dataset is highly skewed to one side. We have more 0's than we have 1's. As a result, while predicting unseen data, our models are more likely to choose 0 as compared to 1. To solve this issue, we tried \"oversampling\". In this technique, we synthetically generate new data items from the minority class. We keep generating new items until the ratio of the classes comes out to be 1:1. Now, the model trains on equal number of 1's as it does to 0's. Thus, whenever it predicts on unseen data, it is not biased to choose either class.\n",
    "-   **StandardScaler**  \n",
    "Using StandardScaler, we will standardize the features by scaling to unit variance. Several machine learning estimators rely on standardization of datasets. If the individual features do not follow a standard normally distributed distribution, they may behave poorly.\n",
    "-   **MinMaxScaler**  \n",
    "Using MinMaxScaler, we will scale each feature individually so that it fits within the training set's range.\n"
   ]
  },
  {
   "cell_type": "code",
   "execution_count": 30,
   "metadata": {},
   "outputs": [],
   "source": [
    "dataset= pd.read_csv(\"train_tfidf_features.csv\")\n",
    "test_dataset = pd.read_csv(\"test_tfidf_features.csv\")\n",
    "\n",
    "final_test_x = test_dataset.drop([\"id\"],axis=1)\n",
    "final_test_id = test_dataset[\"id\"]\n",
    "\n",
    "x_original = dataset.drop([\"label\",\"id\"],axis = 1)\n",
    "y_original = dataset[\"label\"]\n",
    "\n",
    "#Balance dataset\n",
    "x, y = SMOTE().fit_resample(x_original, y_original)\n",
    "\n",
    "x_train, x_test, y_train, y_test = train_test_split(x, y, test_size=0.05)\n",
    "\n",
    "st_scaler= StandardScaler()\n",
    "st_scaler2= StandardScaler()\n",
    "mm_scaler = MinMaxScaler()\n",
    "\n",
    "## STD Scale\n",
    "x_train_st = st_scaler.fit_transform(x_train) \n",
    "x_test_st = st_scaler.transform(x_test) \n",
    "x_st = st_scaler2.fit_transform(x) \n",
    "final_test_st = st_scaler2.transform(final_test_x) \n",
    "\n",
    "## MM Scale\n",
    "x_train_mm = mm_scaler.fit_transform(x_train)\n",
    "x_test_mm = mm_scaler.transform(x_test)\n"
   ]
  },
  {
   "cell_type": "code",
   "execution_count": 31,
   "metadata": {},
   "outputs": [
    {
     "data": {
      "image/png": "[encoded data removed]",
      "text/plain": [
       "<Figure size 432x288 with 1 Axes>"
      ]
     },
     "metadata": {},
     "output_type": "display_data"
    }
   ],
   "source": [
    "plt.pie(y_original.value_counts(), autopct=\"%0.2f\")\n",
    "plt.title(\"Distribution of classes before oversampling\")\n",
    "plt.show()"
   ]
  },
  {
   "cell_type": "code",
   "execution_count": 32,
   "metadata": {},
   "outputs": [
    {
     "data": {
      "image/png": "[encoded data removed]",
      "text/plain": [
       "<Figure size 432x288 with 1 Axes>"
      ]
     },
     "metadata": {},
     "output_type": "display_data"
    }
   ],
   "source": [
    "plt.pie(y.value_counts(), autopct=\"%0.2f\")\n",
    "plt.title(\"Distribution of classes after oversampling\")\n",
    "plt.show()"
   ]
  },
  {
   "cell_type": "markdown",
   "metadata": {},
   "source": [
    "**Logistic Regression Classifier with tuned parameters**"
   ]
  },
  {
   "attachments": {},
   "cell_type": "markdown",
   "metadata": {},
   "source": [
    "**Parameters used:** class_weight = \"balanced\", C = 2e-4  \n",
    "We made use of the regularization parameter C. The lower value the value of C, higher the regularization. Thus, we set our C value to be very low , 2e-4. We observed that if we increased C, then the model was performing poorly. We also set our class_weight=balanced. This is so that sklearn automatically gives a certain class its weightage depending on the frequency of the class occurring, and there is no bias to a certain class."
   ]
  },
  {
   "cell_type": "code",
   "execution_count": 33,
   "metadata": {},
   "outputs": [
    {
     "name": "stdout",
     "output_type": "stream",
     "text": [
      "0.8442235540612971\n",
      "0.7671957671957672\n"
     ]
    }
   ],
   "source": [
    "from sklearn.linear_model import LogisticRegression\n",
    "model = LogisticRegression(class_weight = \"balanced\", C = 2e-4)\n",
    "model.fit(x_train_st, y_train)\n",
    "\n",
    "print(sklearn.metrics.f1_score(y_train, model.predict(x_train_st)))\n",
    "print(sklearn.metrics.f1_score(y_test, model.predict(x_test_st)))\n",
    "\n",
    "predictions = pd.DataFrame(model.predict(final_test_st))\n",
    "#pd.concat([predictions,final_test_id],axis = 1).to_csv(\"Logistic_with_tuning.csv\")"
   ]
  },
  {
   "cell_type": "markdown",
   "metadata": {},
   "source": [
    "**Gradient Boosting Classifier**"
   ]
  },
  {
   "attachments": {},
   "cell_type": "markdown",
   "metadata": {},
   "source": [
    "**Parameters used:** n_estimators = 600, learning_rate = 0.25, max_depth = 6  \n",
    "We first ran the model with the default value of n_estimators = 100. Due to Gradient Boost's robustness to over-fitting, it typically performs better with a larger number. Thus, to find the sweet spot, we plotted a graph between the F1 score and n_estimators. From the graph, we see that there is a slight peak at n_estimators = 600."
   ]
  },
  {
   "cell_type": "code",
   "execution_count": 34,
   "metadata": {},
   "outputs": [
    {
     "name": "stdout",
     "output_type": "stream",
     "text": [
      "0.9745944596955328\n",
      "0.77959927140255\n"
     ]
    }
   ],
   "source": [
    "from sklearn.ensemble import GradientBoostingClassifier\n",
    "gbc = GradientBoostingClassifier(n_estimators = 600, learning_rate = 0.25, max_depth = 6)\n",
    "gbc.fit(x_train_st, y_train)\n",
    "\n",
    "print(sklearn.metrics.f1_score(y_train, gbc.predict(x_train_st)))\n",
    "print(sklearn.metrics.f1_score(y_test, gbc.predict(x_test_st)))\n",
    "predictions = pd.DataFrame(gbc.predict(final_test_st))\n",
    "#pd.concat([predictions,final_test_id],axis = 1).to_csv(\"gradient_boost.csv\")"
   ]
  },
  {
   "cell_type": "markdown",
   "metadata": {},
   "source": [
    "## Final model selected (Best performing) : Extra Trees Classifier"
   ]
  },
  {
   "cell_type": "markdown",
   "metadata": {},
   "source": [
    "**Parameters used:** n_estimators = 500, max_depth = 1000, criterion = 'log_loss'"
   ]
  },
  {
   "attachments": {},
   "cell_type": "markdown",
   "metadata": {},
   "source": [
    "We first ran the model with the default value of n_estimators = 100. We then plotted a graph between the F1 score and n_estimators. From the graph, we observed that the accuracy of the model generally remained constant as we increased the number of estimators.  Thus, we finalized n_estimators = 500.\n",
    "\n",
    "Moving on, we adjusted the max_features parameter, by manually trying the three options of {“sqrt”, “log2”, None}. We observed that sqrt gave us the best results.\n",
    "\n",
    "Additionally, we tuned the max_depth and the criterion parameters. Similar to n_estimators, we plotted a graph between the F1 score and max_depth. From the graph, we observe a slight peak at max_depth = 1000.\n",
    "\n",
    "For criterion we tried the three parameters manually, and found that the resulting accuracies were quite similar, but criterion = ‘log_loss’ gave us the best accuracy."
   ]
  },
  {
   "cell_type": "code",
   "execution_count": 35,
   "metadata": {},
   "outputs": [
    {
     "name": "stdout",
     "output_type": "stream",
     "text": [
      "0.997123015873016\n",
      "0.8107109879963067\n"
     ]
    }
   ],
   "source": [
    "from sklearn.ensemble import ExtraTreesClassifier\n",
    "et= ExtraTreesClassifier(n_estimators = 500, max_depth = 1000, criterion = 'log_loss')\n",
    "et.fit(x_train_st, y_train)\n",
    "\n",
    "print(sklearn.metrics.f1_score(y_train, et.predict(x_train_st)))\n",
    "print(sklearn.metrics.f1_score(y_test, et.predict(x_test_st)))\n",
    "\n",
    "predictions = pd.DataFrame(et.predict(final_test_st))\n",
    "#pd.concat([predictions,final_test_id],axis = 1).to_csv(\"extra_trees.csv\")"
   ]
  },
  {
   "cell_type": "markdown",
   "metadata": {},
   "source": [
    "**Voting Classifier with Extra Trees, Logistic regression and Gradient Boost**"
   ]
  },
  {
   "cell_type": "markdown",
   "metadata": {},
   "source": [
    "**Parameters used:** voting = \"soft\", n_jobs = -1  \n",
    "For voting classifier, we chose extra trees, logistic and gradient boosting classifiers, as these three were our top performing models. However, the total accuracy we got was still lesser than our best model, which was extra trees."
   ]
  },
  {
   "cell_type": "code",
   "execution_count": 36,
   "metadata": {},
   "outputs": [
    {
     "name": "stdout",
     "output_type": "stream",
     "text": [
      "0.9880103051922315\n",
      "0.7949412827461608\n"
     ]
    }
   ],
   "source": [
    "from sklearn.linear_model import LogisticRegression\n",
    "from sklearn.ensemble import ExtraTreesClassifier, GradientBoostingClassifier, VotingClassifier\n",
    "et = ExtraTreesClassifier()\n",
    "logistic = LogisticRegression()\n",
    "xgb = GradientBoostingClassifier()\n",
    "estimators = [(\"extra trees\", et), (\"logistic regression\", logistic), (\"gradient boost\", xgb)]\n",
    "\n",
    "ensemble = VotingClassifier(estimators, voting = \"soft\", n_jobs = -1)\n",
    "ensemble.fit(x_train_st, y_train)\n",
    "\n",
    "print(sklearn.metrics.f1_score(y_train, ensemble.predict(x_train_st)))\n",
    "print(sklearn.metrics.f1_score(y_test, ensemble.predict(x_test_st)))\n",
    "\n",
    "predictions = pd.DataFrame(ensemble.predict(final_test_st))\n",
    "#pd.concat([predictions,final_test_id],axis = 1).to_csv(\"voting.csv\")"
   ]
  },
  {
   "cell_type": "markdown",
   "metadata": {},
   "source": [
    "**Bagging Classifier** "
   ]
  },
  {
   "attachments": {},
   "cell_type": "markdown",
   "metadata": {},
   "source": [
    "**Parameters used: n_estimators = 10**   \n",
    "For bagging classifier, we chose extra trees with n_estimators = 10 because we felt that extra trees classifier was very rigid in training the data. However, bagging classifier also underperformed compared to extra tree classifier. We  also plotted a graph between F1 score and n_estimators. We see a slight decrease in the F1 score as we apply n_estimators of more than 10."
   ]
  },
  {
   "cell_type": "code",
   "execution_count": 37,
   "metadata": {},
   "outputs": [
    {
     "name": "stdout",
     "output_type": "stream",
     "text": [
      "0.9941532058269745\n",
      "0.815018315018315\n"
     ]
    }
   ],
   "source": [
    "from sklearn.ensemble import BaggingClassifier\n",
    "bag = BaggingClassifier(base_estimator = ExtraTreesClassifier(),n_estimators = 10)\n",
    "bag.fit(x_train_st, y_train)\n",
    "\n",
    "print(sklearn.metrics.f1_score(y_train, bag.predict(x_train_st)))\n",
    "print(sklearn.metrics.f1_score(y_test, bag.predict(x_test_st)))\n",
    "\n",
    "predictions = pd.DataFrame(ensemble.predict(final_test_st))\n",
    "#pd.concat([predictions,final_test_id],axis = 1).to_csv(\"bagging.csv\")"
   ]
  },
  {
   "cell_type": "markdown",
   "metadata": {},
   "source": [
    "**Random Forest Classifier**"
   ]
  },
  {
   "attachments": {},
   "cell_type": "markdown",
   "metadata": {},
   "source": [
    "**Parameters used: max_depth = 25**    \n",
    "By plotting a graph between F1 score and max_depth, we found that the F1 score was increasing as the max_depth increased.   Hence, we chose max_depth = 25 considering the time required to train the model."
   ]
  },
  {
   "cell_type": "code",
   "execution_count": 38,
   "metadata": {},
   "outputs": [
    {
     "name": "stdout",
     "output_type": "stream",
     "text": [
      "0.7894094928346376\n",
      "0.7126654064272211\n"
     ]
    }
   ],
   "source": [
    "from sklearn.ensemble import RandomForestClassifier\n",
    "rf= RandomForestClassifier(max_depth = 25)\n",
    "rf.fit(x_train_st, y_train)\n",
    "\n",
    "print(sklearn.metrics.f1_score(y_train, rf.predict(x_train_st)))\n",
    "print(sklearn.metrics.f1_score(y_test, rf.predict(x_test_st)))\n",
    "\n",
    "predictions = pd.DataFrame(rf.predict(final_test_st))\n",
    "#pd.concat([predictions,final_test_id],axis = 1).to_csv(\"random_forest.csv\")"
   ]
  }
 ],
 "metadata": {
  "kernelspec": {
   "display_name": "Python 3",
   "language": "python",
   "name": "python3"
  },
  "language_info": {
   "codemirror_mode": {
    "name": "ipython",
    "version": 3
   },
   "file_extension": ".py",
   "mimetype": "text/x-python",
   "name": "python",
   "nbconvert_exporter": "python",
   "pygments_lexer": "ipython3",
   "version": "3.8.3"
  }
 },
 "nbformat": 4,
 "nbformat_minor": 4
}
